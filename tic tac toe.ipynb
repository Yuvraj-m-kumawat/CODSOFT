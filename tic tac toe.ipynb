{
 "cells": [
  {
   "cell_type": "code",
   "execution_count": 2,
   "id": "0f684766-be5e-4ed1-8351-66d0e31296c2",
   "metadata": {},
   "outputs": [
    {
     "name": "stdout",
     "output_type": "stream",
     "text": [
      "Welcome to Tic-Tac-Toe!\n",
      "You are 'O' and I am the AI, playing as 'X'\n",
      "\n",
      "\n",
      "Current State of Board:\n",
      " | | \n",
      "-----\n",
      " | | \n",
      "-----\n",
      " | | \n",
      "-----\n"
     ]
    },
    {
     "name": "stdin",
     "output_type": "stream",
     "text": [
      "Your turn! Enter your move (row col):  0 0\n"
     ]
    },
    {
     "name": "stdout",
     "output_type": "stream",
     "text": [
      "\n",
      "AI's turn\n",
      "\n",
      "\n",
      "Current State of Board:\n",
      "O| | \n",
      "-----\n",
      " |X| \n",
      "-----\n",
      " | | \n",
      "-----\n"
     ]
    },
    {
     "name": "stdin",
     "output_type": "stream",
     "text": [
      "Your turn! Enter your move (row col):  0 1\n"
     ]
    },
    {
     "name": "stdout",
     "output_type": "stream",
     "text": [
      "\n",
      "AI's turn\n",
      "\n",
      "\n",
      "Current State of Board:\n",
      "O|O|X\n",
      "-----\n",
      " |X| \n",
      "-----\n",
      " | | \n",
      "-----\n"
     ]
    },
    {
     "name": "stdin",
     "output_type": "stream",
     "text": [
      "Your turn! Enter your move (row col):  1 2\n"
     ]
    },
    {
     "name": "stdout",
     "output_type": "stream",
     "text": [
      "\n",
      "AI's turn\n",
      "\n",
      "\n",
      "Current State of Board:\n",
      "O|O|X\n",
      "-----\n",
      " |X|O\n",
      "-----\n",
      "X| | \n",
      "-----\n",
      "AI won!\n"
     ]
    }
   ],
   "source": [
    "import math\n",
    "board = [[' ' for _ in range(3)] for _ in range(3)]\n",
    "def print_board():\n",
    "    print(\"\\nCurrent State of Board:\")\n",
    "    for row in board:\n",
    "        print(\"|\".join(row))\n",
    "        print(\"-\" * 5)\n",
    "def check_winner(player):\n",
    "    for i in range(3):\n",
    "        if all([board[i][j] == player for j in range(3)]) or all([board[j][i] == player for j in range(3)]):\n",
    "            return True\n",
    "    if board[0][0] == player and board[1][1] == player and board[2][2] == player:\n",
    "        return True\n",
    "    if board[0][2] == player and board[1][1] == player and board[2][0] == player:\n",
    "        return True\n",
    "    return False\n",
    "def is_board_full():\n",
    "    return all([board[i][j] != ' ' for i in range(3) for j in range(3)])\n",
    "def minimax(depth, is_maximizing):\n",
    "    if check_winner('X'):\n",
    "        return 10 - depth  \n",
    "    if check_winner('O'):\n",
    "        return depth - 10  \n",
    "    \n",
    "    if is_board_full():\n",
    "        return 0  \n",
    "    \n",
    "    if is_maximizing:\n",
    "        best = -math.inf\n",
    "        for i in range(3):\n",
    "            for j in range(3):\n",
    "                if board[i][j] == ' ':\n",
    "                    board[i][j] = 'X'  \n",
    "                    best = max(best, minimax(depth + 1, False)) \n",
    "                    board[i][j] = ' '  \n",
    "        return best\n",
    "    else:\n",
    "        best = math.inf\n",
    "        for i in range(3):\n",
    "            for j in range(3):\n",
    "                if board[i][j] == ' ':\n",
    "                    board[i][j] = 'O'  \n",
    "                    best = min(best, minimax(depth + 1, True))  \n",
    "                    board[i][j] = ' '  \n",
    "        return best\n",
    "def find_best_move():\n",
    "    best_val = -math.inf\n",
    "    best_move = (-1, -1)\n",
    "\n",
    "    for i in range(3):\n",
    "        for j in range(3):\n",
    "            if board[i][j] == ' ':\n",
    "                board[i][j] = 'X' \n",
    "                move_val = minimax(0, False)  \n",
    "                board[i][j] = ' '  \n",
    "\n",
    "                if move_val > best_val:\n",
    "                    best_move = (i, j)\n",
    "                    best_val = move_val\n",
    "\n",
    "    return best_move\n",
    "def play_game():\n",
    "    print(\"Welcome to Tic-Tac-Toe!\")\n",
    "    print(\"You are 'O' and I am the AI, playing as 'X'\\n\")\n",
    "    \n",
    "    while True:\n",
    "        print_board()\n",
    "        try:\n",
    "            row, col = map(int, input(\"Your turn! Enter your move (row col): \").split())\n",
    "            if board[row][col] != ' ':\n",
    "                print(\"Oops! That spot is already taken. Try again!\")\n",
    "                continue\n",
    "        except (ValueError, IndexError):\n",
    "            print(\"Invalid input! Please enter two numbers between 0 and 2 for row and column.\")\n",
    "            continue\n",
    "   \n",
    "        board[row][col] = 'O'\n",
    "\n",
    "        if check_winner('O'):\n",
    "            print_board()\n",
    "            print(\"Congratulations! You win!\")\n",
    "            break\n",
    "\n",
    "        if is_board_full():\n",
    "            print_board()\n",
    "            print(\"It's a draw! No more moves left.\")\n",
    "            break\n",
    "\n",
    "        print(\"\\nAI's turn\\n\")\n",
    "        best_move = find_best_move()  \n",
    "        board[best_move[0]][best_move[1]] = 'X'  \n",
    "\n",
    "        if check_winner('X'):\n",
    "            print_board()\n",
    "            print(\"AI won!\")\n",
    "            break\n",
    "\n",
    "        if is_board_full():\n",
    "            print_board()\n",
    "            print(\"It's a draw! No one wins this time.\")\n",
    "            break\n",
    "play_game()"
   ]
  },
  {
   "cell_type": "code",
   "execution_count": null,
   "id": "c86eadf4-ec93-4f8f-8657-041c22271944",
   "metadata": {},
   "outputs": [],
   "source": []
  }
 ],
 "metadata": {
  "kernelspec": {
   "display_name": "Python 3 (ipykernel)",
   "language": "python",
   "name": "python3"
  },
  "language_info": {
   "codemirror_mode": {
    "name": "ipython",
    "version": 3
   },
   "file_extension": ".py",
   "mimetype": "text/x-python",
   "name": "python",
   "nbconvert_exporter": "python",
   "pygments_lexer": "ipython3",
   "version": "3.12.4"
  }
 },
 "nbformat": 4,
 "nbformat_minor": 5
}
