{
 "cells": [
  {
   "cell_type": "code",
   "execution_count": 4,
   "id": "21a503f3-3710-43eb-ad7e-ab531e8d32fb",
   "metadata": {},
   "outputs": [
    {
     "name": "stdin",
     "output_type": "stream",
     "text": [
      "Enter your preferred genres (comma separated):  adventure, cooking\n"
     ]
    },
    {
     "name": "stdout",
     "output_type": "stream",
     "text": [
      "\n",
      "Recommended Books based on your genre preference:\n",
      "Genres: Fantasy, Adventure, Rating: 4.8\n",
      "Genres: Adventure, Fantasy, Rating: 4.5\n",
      "Genres: Cooking, Non-fiction, Rating: 3.8\n"
     ]
    }
   ],
   "source": [
    "books = [\n",
    "    {\"genres\": [\"Adventure\", \"Fantasy\"], \"rating\": 4.5},\n",
    "    {\"genres\": [\"Mystery\", \"Thriller\"], \"rating\": 4.7},\n",
    "    {\"genres\": [\"Science\", \"Non-fiction\"], \"rating\": 4.0},\n",
    "    {\"genres\": [\"Romance\", \"Drama\"], \"rating\": 4.2},\n",
    "    {\"genres\": [\"Technology\", \"Non-fiction\"], \"rating\": 4.1},\n",
    "    {\"genres\": [\"Fantasy\", \"Adventure\"], \"rating\": 4.8},\n",
    "    {\"genres\": [\"Cooking\", \"Non-fiction\"], \"rating\": 3.8},\n",
    "    {\"genres\": [\"Psychological\", \"Thriller\"], \"rating\": 4.6}R\n",
    "]\n",
    "def recommend_books(user_genres):\n",
    "    recommended_books = []\n",
    "    user_genres = [genre.lower() for genre in user_genres]\n",
    "    for book in books:\n",
    "        if any(genre.lower() in user_genres for genre in book[\"genres\"]):\n",
    "            recommended_books.append(book)\n",
    "    recommended_books.sort(key=lambda x: x[\"rating\"], reverse=True)\n",
    "    if recommended_books:\n",
    "        print(\"\\nRecommended Books based on your genre preference:\")\n",
    "        for book in recommended_books:\n",
    "            print(f\"Genres: {', '.join(book['genres'])}, Rating: {book['rating']}\")\n",
    "    else:\n",
    "        print(\"No books found with that genre.\")\n",
    "user_genre_input = input(\"Enter your preferred genres (comma separated): \")  # User input for genres\n",
    "user_genres = [genre.strip() for genre in user_genre_input.split(\",\")]  # Process the input into a list\n",
    "\n",
    "recommend_books(user_genres)"
   ]
  },
  {
   "cell_type": "code",
   "execution_count": null,
   "id": "0d972317-a2ee-46bc-abdc-ce5ed120d593",
   "metadata": {},
   "outputs": [],
   "source": []
  }
 ],
 "metadata": {
  "kernelspec": {
   "display_name": "Python 3 (ipykernel)",
   "language": "python",
   "name": "python3"
  },
  "language_info": {
   "codemirror_mode": {
    "name": "ipython",
    "version": 3
   },
   "file_extension": ".py",
   "mimetype": "text/x-python",
   "name": "python",
   "nbconvert_exporter": "python",
   "pygments_lexer": "ipython3",
   "version": "3.12.4"
  }
 },
 "nbformat": 4,
 "nbformat_minor": 5
}
