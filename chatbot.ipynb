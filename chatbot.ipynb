{
 "cells": [
  {
   "cell_type": "code",
   "execution_count": null,
   "id": "c61540f2-bb9b-4f62-98d5-4e41a16deaed",
   "metadata": {},
   "outputs": [],
   "source": [
    "import re\n",
    "import random\n",
    "import time\n",
    "responses = {\n",
    "    \"greeting\": [\"Hello! How can I assist you today?\", \"Hi there! How can I help you?\", \"Hey! What can I do for you today?\"],\n",
    "    \"thank_you\": [\"You're welcome!\", \"No problem!\", \"Glad I could help!\"],\n",
    "    \"help\": [\"How can I assist you?\", \"What do you need help with?\", \"How can I help you today?\"],\n",
    "    \"time\": [\"The current time is: \" + time.strftime(\"%H:%M:%S\"), \"It's \" + time.strftime(\"%H:%M:%S\") + \" right now.\"],\n",
    "    \"default\": [\"Sorry, I didn't understand that. Can you rephrase?\", \"Hmm, I didn't catch that. Can you say it again?\", \"I'm not sure what you mean. Can you clarify?\"]\n",
    "}\n",
    "def match_pattern(input_text):\n",
    "    if re.search(r'\\b(hi|hello|hey|greetings)\\b', input_text, re.IGNORECASE):\n",
    "        return \"greeting\"\n",
    "    elif re.search(r'\\b(thank|thanks)\\b', input_text, re.IGNORECASE):\n",
    "        return \"thank_you\"\n",
    "    elif re.search(r'\\b(help|assist|support)\\b', input_text, re.IGNORECASE):\n",
    "        return \"help\"\n",
    "    elif re.search(r'\\b(time|hour|what time)\\b', input_text, re.IGNORECASE):\n",
    "        return \"time\"\n",
    "    else:\n",
    "        return \"default\"    \n",
    "def get_response(user_input):\n",
    "    category = match_pattern(user_input)\n",
    "    return random.choice(responses[category])\n",
    "def chatbot():\n",
    "    print(\"Chatbot: Hello! I am a simple chatbot. Type 'bye' to end the chat.\")\n",
    "    while True:\n",
    "        user_input = input(\"You: \")\n",
    "        if user_input.lower() == 'bye':\n",
    "            print(\"Chatbot: Goodbye!\")\n",
    "            break\n",
    "        response = get_response(user_input)\n",
    "        print(\"Chatbot:\", response)\n",
    "chatbot()\n"
   ]
  }
 ],
 "metadata": {
  "kernelspec": {
   "display_name": "Python 3 (ipykernel)",
   "language": "python",
   "name": "python3"
  },
  "language_info": {
   "codemirror_mode": {
    "name": "ipython",
    "version": 3
   },
   "file_extension": ".py",
   "mimetype": "text/x-python",
   "name": "python",
   "nbconvert_exporter": "python",
   "pygments_lexer": "ipython3",
   "version": "3.12.4"
  }
 },
 "nbformat": 4,
 "nbformat_minor": 5
}
